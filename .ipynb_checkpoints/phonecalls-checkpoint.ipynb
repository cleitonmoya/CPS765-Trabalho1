{
 "cells": [
  {
   "cell_type": "markdown",
   "metadata": {},
   "source": [
    "# Phone Calls"
   ]
  },
  {
   "cell_type": "code",
   "execution_count": null,
   "metadata": {},
   "outputs": [],
   "source": [
    "import numpy as np\n",
    "import matplotlib.pyplot as plt\n",
    "import networkx as nx\n",
    "G = nx.read_edgelist('networks/networks_barabasi/phonecalls.edgelist.txt',create_using=nx.Graph(), nodetype = int)"
   ]
  },
  {
   "cell_type": "markdown",
   "metadata": {},
   "source": [
    "## Visualização"
   ]
  },
  {
   "cell_type": "code",
   "execution_count": null,
   "metadata": {},
   "outputs": [],
   "source": [
    "plt.figure(figsize=(5,5))\n",
    "nx.draw_circular(G, node_shape='.', node_size=0.3, edge_color='grey', alpha=0.5, width=0.01)\n",
    "plt.show()"
   ]
  },
  {
   "cell_type": "markdown",
   "metadata": {},
   "source": [
    "## Caracterização"
   ]
  },
  {
   "cell_type": "code",
   "execution_count": null,
   "metadata": {},
   "outputs": [],
   "source": [
    "n = G.number_of_nodes()\n",
    "m = G.number_of_edges()\n",
    "print('Número de vértices:', n)\n",
    "print('Número de arestas:', m)\n",
    "print('Grafo conexo?',nx.is_connected(G))"
   ]
  },
  {
   "cell_type": "markdown",
   "metadata": {},
   "source": [
    "### 1) Grau"
   ]
  },
  {
   "cell_type": "code",
   "execution_count": null,
   "metadata": {},
   "outputs": [],
   "source": [
    "degrees = np.array([val for (node, val) in G.degree()])"
   ]
  },
  {
   "cell_type": "code",
   "execution_count": null,
   "metadata": {
    "scrolled": true
   },
   "outputs": [],
   "source": [
    "from statistics import median\n",
    "print('Máximo:', degrees.max())\n",
    "print('Mínimo:', degrees.min())\n",
    "print('Média:',degrees.mean())\n",
    "print('Mediana:', median(degrees))\n",
    "print('Desvio padrão:', degrees.std())\n"
   ]
  },
  {
   "cell_type": "markdown",
   "metadata": {},
   "source": [
    "#### Distribuição empírica"
   ]
  },
  {
   "cell_type": "markdown",
   "metadata": {},
   "source": [
    "PMF:"
   ]
  },
  {
   "cell_type": "code",
   "execution_count": null,
   "metadata": {},
   "outputs": [],
   "source": [
    "f = np.array(nx.degree_histogram(G))/n\n",
    "f = f[1:] # elimina o grau 0\n",
    "\n",
    "import matplotlib.pyplot as plt\n",
    "plt.scatter(range(1,len(f)+1),f)\n",
    "plt.xticks(range(1,len(f)+1))\n",
    "plt.show()"
   ]
  },
  {
   "cell_type": "markdown",
   "metadata": {},
   "source": [
    "CCDF:"
   ]
  },
  {
   "cell_type": "code",
   "execution_count": null,
   "metadata": {},
   "outputs": [],
   "source": [
    "cdf = f.cumsum()/f.sum()\n",
    "ccdf = 1-cdf\n",
    "\n",
    "# Outro médodo:\n",
    "#ccdf2 = np.zeros(len(f))\n",
    "#for k,_ in enumerate(f):\n",
    "#    ccdf2[k]  = 1-f[0:k+1].sum()\n",
    "\n",
    "plt.scatter(range(1,len(f)+1),ccdf)\n",
    "#plt.plot(range(1,len(f)+1),ccdf2)\n",
    "#plt.xscale('log')\n",
    "#plt.yscale('log')\n",
    "plt.show()"
   ]
  },
  {
   "cell_type": "markdown",
   "metadata": {},
   "source": [
    "### 2) Distância "
   ]
  },
  {
   "cell_type": "markdown",
   "metadata": {},
   "source": [
    "Calculando a distância entre cada par de vértices:"
   ]
  },
  {
   "cell_type": "code",
   "execution_count": null,
   "metadata": {
    "scrolled": true
   },
   "outputs": [],
   "source": [
    "dist = np.array([])\n",
    "for v in G.nodes():\n",
    "    spl = nx.single_source_shortest_path_length(G, v) # distância short path lenght\n",
    "    spl2 = dict((v2,d) for v2,d in spl.items() if v2 != v) # distância exluindo d(v,v)\n",
    "    dist = np.append(dist, list(spl2.values()))"
   ]
  },
  {
   "cell_type": "markdown",
   "metadata": {},
   "source": [
    "Estatísticas básicas:"
   ]
  },
  {
   "cell_type": "code",
   "execution_count": null,
   "metadata": {},
   "outputs": [],
   "source": [
    "print('Máximo:', dist.max())\n",
    "print('Mínimo:', dist.min())\n",
    "print('Média:',dist.mean())\n",
    "print('Mediana:', median(dist))\n",
    "print('Desvio padrão:', dist.std())"
   ]
  },
  {
   "cell_type": "markdown",
   "metadata": {},
   "source": [
    "Verificando o cálculo da distância média através do método disponibilizado pela biblioteca:"
   ]
  },
  {
   "cell_type": "code",
   "execution_count": null,
   "metadata": {},
   "outputs": [],
   "source": [
    "d_mean = nx.average_shortest_path_length(G)\n",
    "print('Distância média:',d_mean)"
   ]
  },
  {
   "cell_type": "markdown",
   "metadata": {},
   "source": [
    "Frequência relativa e CCDF:"
   ]
  },
  {
   "cell_type": "code",
   "execution_count": null,
   "metadata": {},
   "outputs": [],
   "source": [
    "from scipy.special import comb\n",
    "Lmax = comb(n,2) # número máximo de arestas\n",
    "\n",
    "counts, f_d = np.unique(dist, return_counts=True)\n",
    "cdf = f_d.cumsum()/f_d.sum()\n",
    "ccdf = 1-cdf\n",
    "\n",
    "plt.scatter(counts,ccdf)\n",
    "plt.show()"
   ]
  },
  {
   "cell_type": "markdown",
   "metadata": {},
   "source": [
    "### 3) Tamanho das componentes conexas"
   ]
  },
  {
   "cell_type": "markdown",
   "metadata": {},
   "source": [
    "Número de componentes conexas:"
   ]
  },
  {
   "cell_type": "code",
   "execution_count": null,
   "metadata": {},
   "outputs": [],
   "source": [
    "nx.number_connected_components(G)"
   ]
  },
  {
   "cell_type": "markdown",
   "metadata": {},
   "source": [
    "Tamanho das componentes:"
   ]
  },
  {
   "cell_type": "code",
   "execution_count": null,
   "metadata": {},
   "outputs": [],
   "source": [
    "[len(c) for c in sorted(nx.connected_components(G), key=len, reverse=True)]"
   ]
  },
  {
   "cell_type": "markdown",
   "metadata": {},
   "source": [
    "### 4) Clusterização"
   ]
  },
  {
   "cell_type": "markdown",
   "metadata": {},
   "source": [
    "#### 4.1) Clusterização Local"
   ]
  },
  {
   "cell_type": "code",
   "execution_count": null,
   "metadata": {},
   "outputs": [],
   "source": [
    "cluster = np.array(list(nx.clustering(G).values()))\n",
    "print('Máximo:', cluster.max())\n",
    "print('Mínimo:', cluster.min())\n",
    "print('Média:', cluster.mean())\n",
    "print('Mediana:', median(cluster))\n",
    "print('Desvio padrão:', cluster.std())"
   ]
  },
  {
   "cell_type": "markdown",
   "metadata": {},
   "source": [
    "Verificando a clusterização média:"
   ]
  },
  {
   "cell_type": "code",
   "execution_count": null,
   "metadata": {},
   "outputs": [],
   "source": [
    "nx.average_clustering(G)"
   ]
  },
  {
   "cell_type": "markdown",
   "metadata": {},
   "source": [
    "PMF:"
   ]
  },
  {
   "cell_type": "code",
   "execution_count": null,
   "metadata": {},
   "outputs": [],
   "source": [
    "x, f = np.unique(cluster, return_counts=True)\n",
    "pmf = f/f.sum()\n",
    "plt.scatter(x,pmf)\n",
    "plt.show()"
   ]
  },
  {
   "cell_type": "markdown",
   "metadata": {},
   "source": [
    "CCDF:"
   ]
  },
  {
   "cell_type": "code",
   "execution_count": null,
   "metadata": {},
   "outputs": [],
   "source": [
    "x, f = np.unique(cluster, return_counts=True)\n",
    "cdf = f.cumsum()/f.sum()\n",
    "ccdf = 1-cdf\n",
    "\n",
    "plt.scatter(x,ccdf)\n",
    "plt.show()"
   ]
  },
  {
   "cell_type": "markdown",
   "metadata": {},
   "source": [
    "#### 4.2) Clusterização global"
   ]
  },
  {
   "cell_type": "code",
   "execution_count": null,
   "metadata": {},
   "outputs": [],
   "source": [
    "n_triang = np.array(list(nx.triangles(G).values())).sum()/3 # método conta 3 vezes o triângula (1x para cada vértice)\n",
    "print('Número de triângulos:', n_triang)"
   ]
  },
  {
   "cell_type": "markdown",
   "metadata": {},
   "source": [
    "Clusterização global:"
   ]
  },
  {
   "cell_type": "code",
   "execution_count": null,
   "metadata": {},
   "outputs": [],
   "source": [
    "nx.transitivity(G)"
   ]
  },
  {
   "cell_type": "markdown",
   "metadata": {},
   "source": [
    "### 5) Centralidade"
   ]
  },
  {
   "cell_type": "markdown",
   "metadata": {},
   "source": [
    "#### 5.1) Centralidade de Grau"
   ]
  },
  {
   "cell_type": "code",
   "execution_count": null,
   "metadata": {},
   "outputs": [],
   "source": [
    "cent = np.array(list(nx.degree_centrality(G).values()))\n",
    "print('Máximo:', cent.max())\n",
    "print('Mínimo:', cent.min())\n",
    "print('Média:', cent.mean())\n",
    "print('Mediana:', median(cent))\n",
    "print('Desvio padrão:', cent.std())"
   ]
  },
  {
   "cell_type": "markdown",
   "metadata": {},
   "source": [
    "CCDF:"
   ]
  },
  {
   "cell_type": "code",
   "execution_count": null,
   "metadata": {},
   "outputs": [],
   "source": [
    "x, f = np.unique(cent, return_counts=True)\n",
    "cdf = f.cumsum()/f.sum()\n",
    "ccdf = 1-cdf\n",
    "plt.scatter(x,ccdf)\n",
    "plt.xscale('log')\n",
    "plt.yscale('log')\n",
    "plt.show()"
   ]
  },
  {
   "cell_type": "markdown",
   "metadata": {},
   "source": [
    "#### 5.2) Betweeness"
   ]
  },
  {
   "cell_type": "code",
   "execution_count": null,
   "metadata": {},
   "outputs": [],
   "source": [
    "btw = np.array(list(nx.betweenness_centrality(G).values()))\n",
    "print('Máximo:', btw.max())\n",
    "print('Mínimo:', btw.min())\n",
    "print('Média:', btw.mean())\n",
    "print('Mediana:', median(btw))\n",
    "print('Desvio padrão:', btw.std())"
   ]
  },
  {
   "cell_type": "markdown",
   "metadata": {},
   "source": [
    "PMF:"
   ]
  },
  {
   "cell_type": "code",
   "execution_count": null,
   "metadata": {},
   "outputs": [],
   "source": [
    "x, f = np.unique(btw, return_counts=True)\n",
    "pmf = f/f.sum()\n",
    "plt.scatter(x,pmf)\n",
    "plt.show()"
   ]
  },
  {
   "cell_type": "markdown",
   "metadata": {},
   "source": [
    "CCDF:"
   ]
  },
  {
   "cell_type": "code",
   "execution_count": null,
   "metadata": {
    "scrolled": false
   },
   "outputs": [],
   "source": [
    "x, f = np.unique(btw, return_counts=True)\n",
    "cdf = f.cumsum()/f.sum()\n",
    "ccdf = 1-cdf\n",
    "plt.scatter(x,ccdf)\n",
    "plt.show()"
   ]
  },
  {
   "cell_type": "markdown",
   "metadata": {},
   "source": [
    "Visualziação do Betweenes:"
   ]
  },
  {
   "cell_type": "code",
   "execution_count": null,
   "metadata": {
    "scrolled": true
   },
   "outputs": [],
   "source": [
    "#nx.draw_circular(G, node_color=btw, cmap=plt.cm.Blues, with_labels=True)"
   ]
  },
  {
   "cell_type": "markdown",
   "metadata": {},
   "source": [
    "#### 5.3) Closeness"
   ]
  },
  {
   "cell_type": "code",
   "execution_count": null,
   "metadata": {
    "scrolled": false
   },
   "outputs": [],
   "source": [
    "close = np.array(list(nx.closeness_centrality(G).values()))\n",
    "print('Máximo:', close.max())\n",
    "print('Mínimo:', close.min())\n",
    "print('Média:', close.mean())\n",
    "print('Mediana:', median(close))\n",
    "print('Desvio padrão:', close.std())"
   ]
  },
  {
   "cell_type": "code",
   "execution_count": null,
   "metadata": {
    "scrolled": false
   },
   "outputs": [],
   "source": [
    "x, f = np.unique(close, return_counts=True)\n",
    "cdf = f.cumsum()/f.sum()\n",
    "ccdf = 1-cdf\n",
    "plt.scatter(x,ccdf)\n",
    "plt.show()"
   ]
  },
  {
   "cell_type": "code",
   "execution_count": null,
   "metadata": {
    "scrolled": true
   },
   "outputs": [],
   "source": [
    "#nx.draw_circular(G, node_color=close, cmap=plt.cm.Blues, with_labels=True)"
   ]
  },
  {
   "cell_type": "markdown",
   "metadata": {},
   "source": [
    "#### 5.4) Auto-Vetor"
   ]
  },
  {
   "cell_type": "code",
   "execution_count": null,
   "metadata": {},
   "outputs": [],
   "source": [
    "ev = np.array(list(nx.eigenvector_centrality(G).values()))\n",
    "print('Máximo:', ev.max())\n",
    "print('Mínimo:', ev.min())\n",
    "print('Média:', ev.mean())\n",
    "print('Mediana:', median(ev))\n",
    "print('Desvio padrão:', ev.std())"
   ]
  },
  {
   "cell_type": "code",
   "execution_count": null,
   "metadata": {
    "scrolled": false
   },
   "outputs": [],
   "source": [
    "x, f = np.unique(ev, return_counts=True)\n",
    "cdf = f.cumsum()/f.sum()\n",
    "ccdf = 1-cdf\n",
    "plt.scatter(x,ccdf)\n",
    "plt.show()"
   ]
  },
  {
   "cell_type": "code",
   "execution_count": null,
   "metadata": {},
   "outputs": [],
   "source": [
    "#nx.draw_circular(G, node_color=ev, cmap=plt.cm.Blues, with_labels=True)"
   ]
  },
  {
   "cell_type": "markdown",
   "metadata": {},
   "source": [
    "#### 5.6) PageRank"
   ]
  },
  {
   "cell_type": "code",
   "execution_count": null,
   "metadata": {},
   "outputs": [],
   "source": [
    "pr = np.array(list(nx.pagerank(G, alpha=0.9).values()))\n",
    "print('Máximo:', pr.max())\n",
    "print('Mínimo:', pr.min())\n",
    "print('Média:', pr.mean())\n",
    "print('Mediana:', median(pr))\n",
    "print('Desvio padrão:', pr.std())"
   ]
  },
  {
   "cell_type": "code",
   "execution_count": null,
   "metadata": {
    "scrolled": false
   },
   "outputs": [],
   "source": [
    "x, f = np.unique(pr, return_counts=True)\n",
    "cdf = f.cumsum()/f.sum()\n",
    "ccdf = 1-cdf\n",
    "plt.scatter(x,ccdf)\n",
    "#plt.xscale('log')\n",
    "#plt.yscale('log')\n",
    "plt.show()"
   ]
  },
  {
   "cell_type": "code",
   "execution_count": null,
   "metadata": {},
   "outputs": [],
   "source": [
    "#nx.draw_circular(G, node_color=pr, cmap=plt.cm.Blues, with_labels=True)"
   ]
  },
  {
   "cell_type": "markdown",
   "metadata": {},
   "source": [
    "### 5) Similaridade"
   ]
  },
  {
   "cell_type": "markdown",
   "metadata": {},
   "source": [
    "#### 5.1) Jaccard"
   ]
  },
  {
   "cell_type": "code",
   "execution_count": null,
   "metadata": {},
   "outputs": [],
   "source": [
    "jaccard = np.array([p for (u, v, p) in nx.jaccard_coefficient(G)])\n",
    "print('Máximo:', jaccard.max())\n",
    "print('Mínimo:', jaccard.min())\n",
    "print('Média:', jaccard.mean())\n",
    "print('Mediana:', median(jaccard))\n",
    "print('Desvio padrão:', jaccard.std())"
   ]
  },
  {
   "cell_type": "code",
   "execution_count": null,
   "metadata": {},
   "outputs": [],
   "source": [
    "x, f = np.unique(jaccard, return_counts=True)\n",
    "cdf = f.cumsum()/f.sum()\n",
    "ccdf = 1-cdf\n",
    "plt.scatter(x,ccdf)\n",
    "#plt.xscale('log')\n",
    "#plt.yscale('log')\n",
    "plt.show()"
   ]
  },
  {
   "cell_type": "code",
   "execution_count": null,
   "metadata": {},
   "outputs": [],
   "source": [
    "mapa = [[u,v, p] for (u, v, p) in nx.jaccard_coefficient(G)]\n",
    "\n",
    "import pandas as pd\n",
    "df = pd.DataFrame(mapa)\n",
    "df.set_index([0,1],inplace=True)\n",
    "df_m = df.unstack(level=0)\n",
    "\n",
    "import seaborn as sns\n",
    "ax = sns.heatmap(df_m, cmap=plt.cm.Blues)\n",
    "locs, labels = plt.xticks()\n",
    "#plt.xticks(locs,range(1,33,2))\n",
    "plt.xlabel('v')\n",
    "plt.ylabel('u')\n",
    "plt.show()"
   ]
  },
  {
   "cell_type": "markdown",
   "metadata": {},
   "source": [
    "#### 5.2) Adamic/Adar"
   ]
  },
  {
   "cell_type": "code",
   "execution_count": null,
   "metadata": {},
   "outputs": [],
   "source": [
    "adamic = np.array([p for (u, v, p) in nx.adamic_adar_index(G)])\n",
    "print('Máximo:', adamic.max())\n",
    "print('Mínimo:', adamic.min())\n",
    "print('Média:', adamic.mean())\n",
    "print('Mediana:', median(adamic))\n",
    "print('Desvio padrão:', adamic.std())"
   ]
  },
  {
   "cell_type": "code",
   "execution_count": null,
   "metadata": {},
   "outputs": [],
   "source": [
    "x, f = np.unique(adamic, return_counts=True)\n",
    "cdf = f.cumsum()/f.sum()\n",
    "ccdf = 1-cdf\n",
    "plt.scatter(x,ccdf)\n",
    "plt.show()"
   ]
  },
  {
   "cell_type": "code",
   "execution_count": null,
   "metadata": {},
   "outputs": [],
   "source": [
    "#pairs = dict([((u,v), p) for (u, v, p) in nx.adamic_adar_index(G)])\n",
    "mapa = [[u,v, p] for (u, v, p) in nx.adamic_adar_index(G)]\n",
    "\n",
    "import pandas as pd\n",
    "df = pd.DataFrame(mapa)\n",
    "df.set_index([0,1],inplace=True)\n",
    "df_m = df.unstack(level=0)\n",
    "\n",
    "import seaborn as sns\n",
    "ax = sns.heatmap(df_m, cmap=plt.cm.Blues)\n",
    "locs, labels = plt.xticks()\n",
    "#plt.xticks(locs,range(1,34,2))\n",
    "plt.xlabel('v')\n",
    "plt.ylabel('u')\n",
    "plt.show()"
   ]
  }
 ],
 "metadata": {
  "kernelspec": {
   "display_name": "Python 3",
   "language": "python",
   "name": "python3"
  },
  "language_info": {
   "codemirror_mode": {
    "name": "ipython",
    "version": 3
   },
   "file_extension": ".py",
   "mimetype": "text/x-python",
   "name": "python",
   "nbconvert_exporter": "python",
   "pygments_lexer": "ipython3",
   "version": "3.7.6"
  }
 },
 "nbformat": 4,
 "nbformat_minor": 4
}
